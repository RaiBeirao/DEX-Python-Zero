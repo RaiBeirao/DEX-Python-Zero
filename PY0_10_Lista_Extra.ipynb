{
  "cells": [
    {
      "cell_type": "markdown",
      "metadata": {
        "id": "view-in-github",
        "colab_type": "text"
      },
      "source": [
        "<a href=\"https://colab.research.google.com/github/RaiBeirao/DEx-Python-Zero/blob/main/PY0_10_Lista_Extra.ipynb\" target=\"_parent\"><img src=\"https://colab.research.google.com/assets/colab-badge.svg\" alt=\"Open In Colab\"/></a>"
      ]
    },
    {
      "cell_type": "markdown",
      "metadata": {
        "id": "t8qG28pDnfuM"
      },
      "source": [
        "# Exercícios - Python "
      ]
    },
    {
      "cell_type": "markdown",
      "metadata": {
        "id": "N9fXnHvPnfuN"
      },
      "source": [
        "1) Imprima a frase \"Eu sou Dexteeer!\""
      ]
    },
    {
      "cell_type": "code",
      "source": [
        "print(\"Eu sou Dexteeer!\")"
      ],
      "metadata": {
        "id": "qPV4SszT7nUq",
        "colab": {
          "base_uri": "https://localhost:8080/"
        },
        "outputId": "6b0bbf9c-b5ca-4911-bbbd-b2557f7b1f85"
      },
      "execution_count": null,
      "outputs": [
        {
          "output_type": "stream",
          "name": "stdout",
          "text": [
            "Eu sou Dexteeer!\n"
          ]
        }
      ]
    },
    {
      "cell_type": "markdown",
      "metadata": {
        "id": "dK5aLDPDnfuO"
      },
      "source": [
        "2) Faça operações matemáticas de soma, subtração, multiplicação e divisão."
      ]
    },
    {
      "cell_type": "code",
      "source": [
        "a = float(input(\"digite um número: \"))\n",
        "b = float(input(\"digite um número: \"))\n",
        "\n",
        "print(f\"{a} + {b} = {a+b}\")\n",
        "print(f\"{a} - {b} = {a-b}\")\n",
        "print(f\"{a} * {b} = {a*b}\")\n",
        "print(f\"{a} / {b} = {a/b}\")"
      ],
      "metadata": {
        "colab": {
          "base_uri": "https://localhost:8080/"
        },
        "id": "DEJZSMig7w3f",
        "outputId": "6080fe3c-386d-457e-c4ca-47614bad99a5"
      },
      "execution_count": 1,
      "outputs": [
        {
          "output_type": "execute_result",
          "data": {
            "text/plain": [
              "12"
            ]
          },
          "metadata": {},
          "execution_count": 1
        }
      ]
    },
    {
      "cell_type": "markdown",
      "metadata": {
        "id": "Y1hfyqi3nfuO"
      },
      "source": [
        "3) Imprima o tipo de um determinado valor inteiro."
      ]
    },
    {
      "cell_type": "code",
      "source": [
        "type(100)"
      ],
      "metadata": {
        "colab": {
          "base_uri": "https://localhost:8080/"
        },
        "id": "lwYtLn7l8RW7",
        "outputId": "2ad11508-231b-43e2-dba2-20eabe2f5ca7"
      },
      "execution_count": 2,
      "outputs": [
        {
          "output_type": "execute_result",
          "data": {
            "text/plain": [
              "int"
            ]
          },
          "metadata": {},
          "execution_count": 2
        }
      ]
    },
    {
      "cell_type": "markdown",
      "metadata": {
        "id": "lpMenLb2nfuP"
      },
      "source": [
        "4) Converta o valor passado anteriormente para o tipo float"
      ]
    },
    {
      "cell_type": "code",
      "source": [
        "float(100)"
      ],
      "metadata": {
        "colab": {
          "base_uri": "https://localhost:8080/"
        },
        "id": "PFuC96iR8aY7",
        "outputId": "abd4a8f7-0d13-4408-dcf6-43272026ad11"
      },
      "execution_count": 3,
      "outputs": [
        {
          "output_type": "execute_result",
          "data": {
            "text/plain": [
              "100.0"
            ]
          },
          "metadata": {},
          "execution_count": 3
        }
      ]
    },
    {
      "cell_type": "markdown",
      "metadata": {
        "id": "L3naneHLnfuP"
      },
      "source": [
        "5) Faça a conversão do valor float recebido anteriormente para o tipo string"
      ]
    },
    {
      "cell_type": "code",
      "source": [
        "str(100)"
      ],
      "metadata": {
        "colab": {
          "base_uri": "https://localhost:8080/",
          "height": 35
        },
        "id": "yRMfd0UP8g20",
        "outputId": "60ea5dc4-0eb1-42fe-853d-bf29cbe90fbf"
      },
      "execution_count": 4,
      "outputs": [
        {
          "output_type": "execute_result",
          "data": {
            "text/plain": [
              "'100'"
            ],
            "application/vnd.google.colaboratory.intrinsic+json": {
              "type": "string"
            }
          },
          "metadata": {},
          "execution_count": 4
        }
      ]
    },
    {
      "cell_type": "markdown",
      "metadata": {
        "id": "DfN6mDVonfuQ"
      },
      "source": [
        "6) Utilizando funções de arredonamento faça:\n",
        "- Arredonde o valor 2.898\n",
        "- Arredonde o valor 2.4545455 e exiba apenas 4 cadas decimais"
      ]
    },
    {
      "cell_type": "code",
      "source": [
        "print(round(2.898))\n",
        "print(round(2.4545455,4))"
      ],
      "metadata": {
        "colab": {
          "base_uri": "https://localhost:8080/"
        },
        "id": "s4KcAOGH8z-V",
        "outputId": "a6622c9b-70ce-4c9b-9a8c-60582696b0c6"
      },
      "execution_count": null,
      "outputs": [
        {
          "output_type": "stream",
          "name": "stdout",
          "text": [
            "3\n",
            "2.4545\n"
          ]
        }
      ]
    },
    {
      "cell_type": "markdown",
      "metadata": {
        "id": "rKA0Gdl0nfuQ"
      },
      "source": [
        "7) Utilizando variáveis faça:\n",
        "- Defina uma variável com o seu nome e imprima o seu valor.\n",
        "- Imprima o tipo dessa variável.\n",
        "- Substitua o valor da sua variável nome com a concatenação do seu valor e o seu sobrenome, depois, imprima o novo valor.\n",
        "    - obs: O resultado dessa variável será Nome Sobrenome, exemplo, Felipe Santana.\n",
        "- Defina duas variaveis com os valores do seu email e idade com apenas uma linha de comando, depois, imprima seus valores."
      ]
    },
    {
      "cell_type": "code",
      "source": [
        "nome = 'Raí'\n",
        "print(type(nome))\n",
        "nome += ' Beirão Augusto dos Santos'\n",
        "print(nome)\n",
        "email, idade = 'email@gmail.com',30\n",
        "email, idade"
      ],
      "metadata": {
        "colab": {
          "base_uri": "https://localhost:8080/"
        },
        "id": "Zz9OdoxQ9Kc-",
        "outputId": "147bb1da-505c-4a73-9b8f-ad7cf03c21da"
      },
      "execution_count": 5,
      "outputs": [
        {
          "output_type": "stream",
          "name": "stdout",
          "text": [
            "<class 'str'>\n",
            "Raí Beirão Augusto dos Santos\n"
          ]
        },
        {
          "output_type": "execute_result",
          "data": {
            "text/plain": [
              "('email@gmail.com', 30)"
            ]
          },
          "metadata": {},
          "execution_count": 5
        }
      ]
    },
    {
      "cell_type": "markdown",
      "metadata": {
        "id": "Xj8LZ11infuR"
      },
      "source": [
        "8) Explique a causa do erro se executar a seguinte instrução para criar uma nova variável: break=10"
      ]
    },
    {
      "cell_type": "markdown",
      "source": [
        "Resposta: O Python não aceita declaração de variáveis utilizando palavras reservadas."
      ],
      "metadata": {
        "id": "mQQNYzJ1yRuw"
      }
    },
    {
      "cell_type": "markdown",
      "metadata": {
        "id": "UipeTegTnfuS"
      },
      "source": [
        "9) Sobre os objetos Strings, faça:\n",
        "- Defina uma variavel com a string: \"Python é uma maldição!\" e imprima\n",
        "- Imprima o primeiro caracter da variavel.\n",
        "- Imprima os valores do primeiro caracter até o 6.\n",
        "- Faça a contagem de todos os caracteres utilizando uma única linha de comando.\n",
        "- Faça uma contagem de quantos vezes a palavra dados aparece na seguinte frase:\n",
        "    - \"dados é o novo petróleo, em Deus eu confio, para o resto me traga dados..\"\n",
        "- Substitua o primeiro caracter da frase acima para maiúsculo\n",
        "- Quebre as palavras da frase separado por virgula, criando uma lista."
      ]
    },
    {
      "cell_type": "code",
      "source": [
        "frase = \"Python é uma maldição!\"\n",
        "print(frase)\n",
        "print(frase[0:6])\n",
        "caracQtd = len(frase)\n",
        "\n",
        "frase = \"dados é o novo petróleo, em Deus eu confio, para o resto me traga dados..\"\n",
        "frase.count(\"dados\")\n",
        "print(frase.capitalize())\n",
        "\n",
        "print(frase.split(\",\"))"
      ],
      "metadata": {
        "colab": {
          "base_uri": "https://localhost:8080/"
        },
        "id": "NlDsSxsJ9yji",
        "outputId": "b26fd084-b259-41ff-e708-40efe524f88d"
      },
      "execution_count": 6,
      "outputs": [
        {
          "output_type": "stream",
          "name": "stdout",
          "text": [
            "Python é uma maldição!\n",
            "Python\n",
            "Dados é o novo petróleo, em deus eu confio, para o resto me traga dados..\n",
            "['dados é o novo petróleo', ' em Deus eu confio', ' para o resto me traga dados..']\n"
          ]
        }
      ]
    },
    {
      "cell_type": "markdown",
      "metadata": {
        "id": "sOfK05ypnfuS"
      },
      "source": [
        "10) Trabalhando com Listas, faça:\n",
        "- Cria uma lista de valores inteiros com o nome idades.\n",
        "- Imprima apenas segundo elemento da lista.\n",
        "- Imprima a contagem de valores da lista.\n",
        "- Substitua o valor do segundo elemento da lista e imprima o resultado.\n",
        "- Imprima apenas os valores do segundo elemento em diante.\n",
        "- Remova qualquer elemento da lista e imprima o resultado.\n",
        "- Defina uma lista chamada salarios com os valores : 900,1200,1500,800,12587,10000.\n",
        "- Verifique se contém o valor 10000 na lista de salarios.\n",
        "- Imprima o menor e maior valor da lista.\n",
        "- Adicione o valor 7000 a lista.\n",
        "- Extenda a lista com dois novos elementos utilizando apenas um método.\n",
        "- Imprima o índice do elemento de valor 800 da lista de salarios.\n",
        "- Faça uma ordenação dos valores da lista de salarios em ordem crescente e decrescente."
      ]
    },
    {
      "cell_type": "code",
      "source": [
        "idades = [12,35,40,88,53,75]\n",
        "print(idades[1])\n",
        "print(len(idades))\n",
        "\n",
        "idades[1] = 33\n",
        "print(idades)\n",
        "print(idades[1:])\n",
        "del idades[3]\n",
        "\n",
        "print()\n",
        "\n",
        "salarios = [900,1200,1500,800,12587,10000]\n",
        "print(10000 in salarios)\n",
        "print(max(salarios),min(salarios))\n",
        "salarios.append(7000)\n",
        "salarios.extend([990,1100])\n",
        "print(salarios)\n",
        "print(salarios.index(800))\n",
        "salarios.sort()\n",
        "print(salarios)\n",
        "salarios.sort(reverse=True)\n",
        "print(salarios)"
      ],
      "metadata": {
        "colab": {
          "base_uri": "https://localhost:8080/"
        },
        "id": "iNmgEde-_ww8",
        "outputId": "e6f7031c-d2c5-4e2d-b940-f39f4d6f43af"
      },
      "execution_count": null,
      "outputs": [
        {
          "output_type": "stream",
          "name": "stdout",
          "text": [
            "35\n",
            "6\n",
            "[12, 33, 40, 88, 53, 75]\n",
            "[33, 40, 88, 53, 75]\n",
            "\n",
            "True\n",
            "12587 800\n",
            "[900, 1200, 1500, 800, 12587, 10000, 7000, 990, 1100]\n",
            "3\n",
            "[800, 900, 990, 1100, 1200, 1500, 7000, 10000, 12587]\n",
            "[12587, 10000, 7000, 1500, 1200, 1100, 990, 900, 800]\n"
          ]
        }
      ]
    }
  ],
  "metadata": {
    "colab": {
      "name": "PY0 10 - Lista Extra.ipynb",
      "provenance": [],
      "collapsed_sections": [],
      "include_colab_link": true
    },
    "kernelspec": {
      "display_name": "Python 3",
      "language": "python",
      "name": "python3"
    },
    "language_info": {
      "codemirror_mode": {
        "name": "ipython",
        "version": 3
      },
      "file_extension": ".py",
      "mimetype": "text/x-python",
      "name": "python",
      "nbconvert_exporter": "python",
      "pygments_lexer": "ipython3",
      "version": "3.6.5"
    }
  },
  "nbformat": 4,
  "nbformat_minor": 0
}