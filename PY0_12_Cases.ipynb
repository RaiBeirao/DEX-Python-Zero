{
  "nbformat": 4,
  "nbformat_minor": 0,
  "metadata": {
    "colab": {
      "name": "PY0 12 - Cases.ipynb",
      "provenance": [],
      "collapsed_sections": [],
      "authorship_tag": "ABX9TyMdERZrZGjBVDrcwX4kyDei",
      "include_colab_link": true
    },
    "kernelspec": {
      "name": "python3",
      "display_name": "Python 3"
    },
    "language_info": {
      "name": "python"
    }
  },
  "cells": [
    {
      "cell_type": "markdown",
      "metadata": {
        "id": "view-in-github",
        "colab_type": "text"
      },
      "source": [
        "<a href=\"https://colab.research.google.com/github/RaiBeirao/DEx-Python-Zero/blob/main/PY0_12_Cases.ipynb\" target=\"_parent\"><img src=\"https://colab.research.google.com/assets/colab-badge.svg\" alt=\"Open In Colab\"/></a>"
      ]
    },
    {
      "cell_type": "markdown",
      "source": [
        "Case 1"
      ],
      "metadata": {
        "id": "l1eOlDMLFgau"
      }
    },
    {
      "cell_type": "code",
      "execution_count": null,
      "metadata": {
        "colab": {
          "base_uri": "https://localhost:8080/"
        },
        "id": "oObV87oEFfy2",
        "outputId": "d523fcbe-93ad-4357-d2fd-c52eca710c22"
      },
      "outputs": [
        {
          "output_type": "stream",
          "name": "stdout",
          "text": [
            "[200, 600, 720, 1500, 1000, 275, 990, 1200, 2400, 200]\n",
            "[10, 30, 40, 30, 10, 25, 33, 12, 12, 20]\n",
            "[20, 20, 18, 50, 100, 11, 30, 100, 200, 10]\n",
            "\n",
            "média em M2 de altura:  22.2\n",
            "média em M2 de altura:  55.9\n",
            "Área total:  9085 , médiatotal dos terrenos:  908.5 m2\n"
          ]
        }
      ],
      "source": [
        "area = [200,'null',720,1500,1000,275,'null',1200,2400,'null']\n",
        "altura = ['null',30,40,30,10,25,33,'null',12,20]\n",
        "largura = [20,20,'null',50,100,'null',30,100,200,10]\n",
        "\n",
        "\n",
        "def preencher(s,h,l):\n",
        "  areaFull = []\n",
        "  alturaFull = []\n",
        "  larguraFull = []\n",
        "  for surface,high,lenght in zip (s,h,l):\n",
        "    if type(surface) != int:\n",
        "      areaFull.append(int(high*lenght))\n",
        "    else:\n",
        "      areaFull.append(int(surface))\n",
        "    if type(high) != int:\n",
        "      alturaFull.append(int(surface/lenght))\n",
        "    else:\n",
        "      alturaFull.append(int(high))\n",
        "    if type(lenght) != int:\n",
        "      larguraFull.append(int(surface/high))\n",
        "    else:\n",
        "      larguraFull.append(int(lenght))\n",
        "  return (areaFull,alturaFull,larguraFull)\n",
        "\n",
        "[area,altura,largura] = preencher(area,altura,largura)\n",
        "print(area)\n",
        "print(altura)\n",
        "print(largura)\n",
        "print()\n",
        "\n",
        "print('média em M2 de altura: ', sum(altura)/len(area))\n",
        "print('média em M2 de altura: ', sum(largura)/len(area))\n",
        "\n",
        "print('Área total: ', sum(area),', médiatotal dos terrenos: ', sum(area)/len(area), 'm2')\n",
        "\n"
      ]
    },
    {
      "cell_type": "markdown",
      "source": [
        "Case 2"
      ],
      "metadata": {
        "id": "HWNe1kYeHHVE"
      }
    },
    {
      "cell_type": "code",
      "source": [
        "usuarios_feedback = [\n",
        "                     {'nome':'Peter','nota':9,'genero':'M','comentario':'bom demais e agil'},\n",
        "                     {'nome':'Joao','nota':10,'genero':'M','comentario':'agil e eficiente'},\n",
        "                     {'nome':'user_not_found','nota':0,'genero':'M','comentario':'Horrível'},\n",
        "                     {'nome':'Marta','nota':10,'genero':'F','comentario':'muito agil bom demais'},\n",
        "                     {'nome':'Beatriz','nota':10,'genero':'F','comentario':'rápido e eficaz'},\n",
        "                     {'nome':'user_not_found','nota':2,'genero':'M','comentario':'ruim'},\n",
        "                     {'nome':'Jéssica','nota':10,'genero':'F','comentario':'agil'},\n",
        "                     {'nome':'José','nota':7,'genero':'M','comentario':'ok'},\n",
        "                     {'nome':'Elias','nota':5,'genero':'M','comentario':'precisa melhorar'},\n",
        "                     {'nome':'Miriã','nota':9,'genero':'F','comentario':'foi muito agil e rápido'},\n",
        "                     {'nome':'Maria','nota':10,'genero':'F','comentario':'muito bom e agil'}\n",
        "                     ]\n",
        "\n",
        "def contaFrequencia (x):\n",
        "  palavrasTodas = []\n",
        "  for user in x:\n",
        "    palavrasTodas.extend(user['comentario'].split())\n",
        "    palavrasUnicas = sorted(set(palavrasTodas))\n",
        "  if 'e' in palavrasUnicas:\n",
        "    palavrasUnicas.remove('e')\n",
        "  for word in palavrasUnicas:\n",
        "    print(palavrasTodas.count(word), word)\n",
        "\n",
        "contaFrequencia(usuarios_feedback)"
      ],
      "metadata": {
        "id": "tMIZE-8yHPOT",
        "colab": {
          "base_uri": "https://localhost:8080/"
        },
        "outputId": "12a05fc9-633e-4153-a31c-a2e711a9739e"
      },
      "execution_count": null,
      "outputs": [
        {
          "output_type": "stream",
          "name": "stdout",
          "text": [
            "1 Horrível\n",
            "6 agil\n",
            "3 bom\n",
            "2 demais\n",
            "1 eficaz\n",
            "1 eficiente\n",
            "1 foi\n",
            "1 melhorar\n",
            "3 muito\n",
            "1 ok\n",
            "1 precisa\n",
            "1 ruim\n",
            "2 rápido\n",
            "[{'palavra': 'agil', 'qtd': 6}]\n"
          ]
        }
      ]
    },
    {
      "cell_type": "code",
      "source": [
        "usuarios_feedback = [\n",
        "                     {'nome':'Peter','nota':9,'genero':'M','comentario':'bom demais e agil'},\n",
        "                     {'nome':'Joao','nota':10,'genero':'M','comentario':'agil e eficiente'},\n",
        "                     {'nome':'user_not_found','nota':0,'genero':'M','comentario':'Horrível'},\n",
        "                     {'nome':'Marta','nota':10,'genero':'F','comentario':'muito agil bom demais'},\n",
        "                     {'nome':'Beatriz','nota':10,'genero':'F','comentario':'rápido e eficaz'},\n",
        "                     {'nome':'user_not_found','nota':2,'genero':'M','comentario':'ruim'},\n",
        "                     {'nome':'Jéssica','nota':10,'genero':'F','comentario':'agil'},\n",
        "                     {'nome':'José','nota':7,'genero':'M','comentario':'ok'},\n",
        "                     {'nome':'Elias','nota':5,'genero':'M','comentario':'precisa melhorar'},\n",
        "                     {'nome':'Miriã','nota':9,'genero':'F','comentario':'foi muito agil e rápido'},\n",
        "                     {'nome':'Maria','nota':10,'genero':'F','comentario':'muito bom e agil'}\n",
        "                     ]\n",
        "\n",
        "def media(x):\n",
        "  m = []\n",
        "  f = []\n",
        "  for user in x:\n",
        "    if user['genero'] == 'M':\n",
        "      m.append(user['nota'])\n",
        "    else:\n",
        "      f.append(user['nota'])\n",
        "  print('média masc =',sum(m)/len(m),', média fem =', sum(f)/len(f))\n",
        "  return m,f\n",
        "media(usuarios_feedback)\n",
        "\n",
        "\n",
        "\n",
        "\n",
        "def notaMedia(feedback):\n",
        "  somaF = 0\n",
        "  qtdF = 0\n",
        "  somaM = 0\n",
        "  qtdM = 0\n",
        "  resp = {}\n",
        "  for c in feedback:\n",
        "    if c['genero'] == 'F':\n",
        "      somaF += c['nota']\n",
        "      qtdF += 1\n",
        "    else:\n",
        "      somaM += c['nota']\n",
        "      qtdM += 1\n",
        "  resp = {\n",
        "      'F': somaF/qtdF ,\n",
        "      'M': somaM/qtdM\n",
        "  }\n",
        "  return resp\n",
        "\n",
        "print('média F: ',notaMedia(usuarios_feedback)['F'])\n",
        "print('média M: ',notaMedia(usuarios_feedback)['M'])"
      ],
      "metadata": {
        "colab": {
          "base_uri": "https://localhost:8080/"
        },
        "id": "m3dl3tAP4AVG",
        "outputId": "3a88f8ee-9db7-4cc3-c4d2-36983bed73e4"
      },
      "execution_count": null,
      "outputs": [
        {
          "output_type": "stream",
          "name": "stdout",
          "text": [
            "média masc = 5.5 , média fem = 9.8\n",
            "média F:  9.8\n",
            "média M:  5.5\n"
          ]
        }
      ]
    },
    {
      "cell_type": "markdown",
      "source": [
        "CASE 3"
      ],
      "metadata": {
        "id": "_yJe9MLJ5inS"
      }
    },
    {
      "cell_type": "code",
      "source": [
        "treinamentos = [\n",
        "      {'treinamento':'Scrum','moedas':30},\n",
        "      {'treinamento':'Data Science','moedas':40},\n",
        "      {'treinamento':'Gestão de Projetos','moedas':50},\n",
        "      {'treinamento':'Marketing','moedas':30},\n",
        "      {'treinamento':'Cloud','moedas':20},\n",
        "      {'treinamento':'Blockchain','moedas':10},\n",
        "      {'treinamento':'Python','moedas':30}\n",
        "      ]\n",
        "\n",
        "pedidos = [\n",
        "      'Scrum',\n",
        "      'Data Science',\n",
        "      'Gestão de Projetos',\n",
        "      'Marketing',\n",
        "      'Cloud',\n",
        "      'Python',\n",
        "      'Python',\n",
        "      'Python',\n",
        "      'Scrum',\n",
        "      'Data Science',\n",
        "      'Gestão de Projetos',\n",
        "      'Marketing',\n",
        "      'Data Science',\n",
        "      'Gestão de Projetos',\n",
        "      'Python',\n",
        "      'Marketing',\n",
        "      'Data Science',\n",
        "      'Gestão de Projetos',\n",
        "      'Data Science',\n",
        "      'Gestão de Projetos',\n",
        "      'Data Science'\n",
        "      ]\n",
        "\n",
        "def getValue(x,b):\n",
        "  for a in x:\n",
        "    if a['treinamento'] in b:\n",
        "      print('valor:',a['moedas'])\n",
        "      return a['moedas']\n",
        "\n",
        "ped = sorted(set(pedidos))\n",
        "\n",
        "for a in ped:\n",
        "  print()\n",
        "  print('solicitações: ', pedidos.count(a), '\\ntreinmento:',a)\n",
        "  valor = getValue(treinamentos,a)\n",
        "  for b in treinamentos:\n",
        "    if a == b['treinamento']:\n",
        "      b['pedidosTotal'] = pedidos.count(a)\n",
        "\n",
        "treinamentos"
      ],
      "metadata": {
        "colab": {
          "base_uri": "https://localhost:8080/"
        },
        "id": "Q715bZnb5fFi",
        "outputId": "be987112-0851-48f9-a688-b66130243898"
      },
      "execution_count": null,
      "outputs": [
        {
          "output_type": "stream",
          "name": "stdout",
          "text": [
            "\n",
            "solicitações:  1 \n",
            "treinmento: Cloud\n",
            "valor: 20\n",
            "\n",
            "solicitações:  6 \n",
            "treinmento: Data Science\n",
            "valor: 40\n",
            "\n",
            "solicitações:  5 \n",
            "treinmento: Gestão de Projetos\n",
            "valor: 50\n",
            "\n",
            "solicitações:  3 \n",
            "treinmento: Marketing\n",
            "valor: 30\n",
            "\n",
            "solicitações:  4 \n",
            "treinmento: Python\n",
            "valor: 30\n",
            "\n",
            "solicitações:  2 \n",
            "treinmento: Scrum\n",
            "valor: 30\n"
          ]
        },
        {
          "output_type": "execute_result",
          "data": {
            "text/plain": [
              "[{'moedas': 30, 'pedidosTotal': 2, 'treinamento': 'Scrum'},\n",
              " {'moedas': 40, 'pedidosTotal': 6, 'treinamento': 'Data Science'},\n",
              " {'moedas': 50, 'pedidosTotal': 5, 'treinamento': 'Gestão de Projetos'},\n",
              " {'moedas': 30, 'pedidosTotal': 3, 'treinamento': 'Marketing'},\n",
              " {'moedas': 20, 'pedidosTotal': 1, 'treinamento': 'Cloud'},\n",
              " {'moedas': 10, 'treinamento': 'Blockchain'},\n",
              " {'moedas': 30, 'pedidosTotal': 4, 'treinamento': 'Python'}]"
            ]
          },
          "metadata": {},
          "execution_count": 58
        }
      ]
    },
    {
      "cell_type": "markdown",
      "source": [
        "Estratégia: Atender o maior número de pedidos"
      ],
      "metadata": {
        "id": "u3gTqOJaK18O"
      }
    },
    {
      "cell_type": "code",
      "source": [
        "budget = 150\n",
        "count = 6\n",
        "total = []\n",
        "\n",
        "while budget>0:\n",
        "  for a in treinamentos:\n",
        "    qtd = a.get('pedidosTotal',0)\n",
        "    if qtd == count:\n",
        "      print('treinamento', a['treinamento'], 'comprado')\n",
        "      total.append(qtd)\n",
        "      budget -= a['moedas']\n",
        "      count -= 1\n",
        "    else:\n",
        "      continue\n",
        "print('total de pedidos atendidos', sum (total), 'representando', sum(total)*100/len(pedidos), '% de atendimentos', '\\nbudget no caixa: ', budget)"
      ],
      "metadata": {
        "colab": {
          "base_uri": "https://localhost:8080/"
        },
        "id": "iS545E0HK08x",
        "outputId": "282590c5-77de-49e3-ecc1-ea90d35c0096"
      },
      "execution_count": null,
      "outputs": [
        {
          "output_type": "stream",
          "name": "stdout",
          "text": [
            "treinamento Data Science comprado\n",
            "treinamento Gestão de Projetos comprado\n",
            "treinamento Python comprado\n",
            "treinamento Marketing comprado\n",
            "total de pedidos atendidos 18 representando 85.71428571428571 % de atendimentos \n",
            "budget no caixa:  0\n"
          ]
        }
      ]
    }
  ]
}