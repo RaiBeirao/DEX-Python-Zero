{
  "nbformat": 4,
  "nbformat_minor": 0,
  "metadata": {
    "colab": {
      "name": "PY0 03 - Condicionais [Extra].ipynb",
      "provenance": [],
      "authorship_tag": "ABX9TyOBnDvm0F2EsaVUn1oshAb6",
      "include_colab_link": true
    },
    "kernelspec": {
      "name": "python3",
      "display_name": "Python 3"
    },
    "language_info": {
      "name": "python"
    }
  },
  "cells": [
    {
      "cell_type": "markdown",
      "metadata": {
        "id": "view-in-github",
        "colab_type": "text"
      },
      "source": [
        "<a href=\"https://colab.research.google.com/github/RaiBeirao/DEx-Python-Zero/blob/main/PY0_03_Condicionais_%5BExtra%5D.ipynb\" target=\"_parent\"><img src=\"https://colab.research.google.com/assets/colab-badge.svg\" alt=\"Open In Colab\"/></a>"
      ]
    },
    {
      "cell_type": "markdown",
      "source": [
        "Desafio/Case 1\n",
        "\n",
        "Questão 01\n",
        "\n",
        "Seu primeiro desafio é desenvolver um programa para um depósito de bebidas que valide venda de bebidas para maiores de idade (maior ou igual 18 anos) no mercado, o programa deve receber do usuário os valores do nome e ano que ele nasceu e retornar se ele pode comprar bebidas.\n"
      ],
      "metadata": {
        "id": "nTkfOQ-5sdB3"
      }
    },
    {
      "cell_type": "code",
      "execution_count": 1,
      "metadata": {
        "colab": {
          "base_uri": "https://localhost:8080/"
        },
        "id": "HczMJuFhsbDo",
        "outputId": "351010b1-2a8b-4365-dd20-bdd8c8e49a67"
      },
      "outputs": [
        {
          "output_type": "stream",
          "name": "stdout",
          "text": [
            "Digite seu nome completo: Raí Santos\n",
            "Digite o ano do sue Nascimento: 1989\n",
            "Cliente pode comprar bebidas alcoolicas\n"
          ]
        }
      ],
      "source": [
        "usuarioNome = input('Digite seu nome completo: ')\n",
        "usuarioAnoNasc = int(input('Digite o ano do sue Nascimento: '))\n",
        "\n",
        "if (2022-usuarioAnoNasc) >= 18:\n",
        "  print('Cliente pode comprar bebidas alcoolicas')\n",
        "else:\n",
        "  print('Cliente não pode comprar bebidas alcoolicas')"
      ]
    },
    {
      "cell_type": "markdown",
      "source": [
        "Questão 02\n",
        "\n",
        "Esse bimestre na faculdade você precisa tirar nota 8 de média para passar na matéria, desenvolva um script que leia a nota de suas últimas 3 provas, tire a média delas e verifique se você passou."
      ],
      "metadata": {
        "id": "lRiPoOAzslF0"
      }
    },
    {
      "cell_type": "code",
      "source": [
        "nota1 = float(input('Digite a sua primeira nota: '))\n",
        "nota2 = float(input('Digite a sua segunda nota: '))\n",
        "nota3 = float(input('Digite a sua terceira nota: '))\n",
        "\n",
        "media = (nota1+nota2+nota3)/3\n",
        "\n",
        "print('Sua nota final foi: {:.2f}'.format(media))\n",
        "if media >= 8:\n",
        "  print('Aprovado')\n",
        "else:\n",
        "  print('Reprovado')"
      ],
      "metadata": {
        "colab": {
          "base_uri": "https://localhost:8080/"
        },
        "id": "pdpUIShttArs",
        "outputId": "7925fdcc-a903-46f4-ee40-1fc3eb3bb56d"
      },
      "execution_count": 2,
      "outputs": [
        {
          "output_type": "stream",
          "name": "stdout",
          "text": [
            "Digite a sua primeira nota: 10\n",
            "Digite a sua segunda nota: 9\n",
            "Digite a sua terceira nota: 5\n",
            "Sua nota final foi: 8.00\n",
            "Aprovado\n"
          ]
        }
      ]
    },
    {
      "cell_type": "markdown",
      "source": [
        "Questão 03\n",
        "\n",
        "A fisioterapeuta que você vai gosta muito de brincar com números, e pediu para você criar um sistema que verifique se a altura inserida é par ou impar."
      ],
      "metadata": {
        "id": "xogwOIAHtDGj"
      }
    },
    {
      "cell_type": "code",
      "source": [
        "altura = int(input('Digite a sua altura em cm: '))\n",
        "\n",
        "if altura%2 == 0:\n",
        "  print('Sua altura é par')\n",
        "else:\n",
        "  print('Sua altura é impar')"
      ],
      "metadata": {
        "colab": {
          "base_uri": "https://localhost:8080/"
        },
        "id": "rauw6ipLtK1D",
        "outputId": "c5b5bfa3-579e-4f9d-ff43-e4cb1247136f"
      },
      "execution_count": 3,
      "outputs": [
        {
          "output_type": "stream",
          "name": "stdout",
          "text": [
            "Digite a sua altura em cm: 183\n",
            "Sua altura é impar\n"
          ]
        }
      ]
    },
    {
      "cell_type": "markdown",
      "source": [
        "Questão 04\n",
        "\n",
        "Faça um script que você coloque a quantidade de dias e descubra em qual trimestre esse dia está no ano."
      ],
      "metadata": {
        "id": "Ozi0u2mjtKS6"
      }
    },
    {
      "cell_type": "code",
      "source": [
        "trim1Final = 31+28+31+30\n",
        "trim2Final = trim1Final + 31+30+31+31\n",
        "trim3Final = trim2Final + 30+31+30+31\n",
        "\n",
        "dias = int(input('Digite o núemro de dias: '))\n",
        "\n",
        "if dias <= trim1Final:\n",
        "  print('Estamos no primeiro trimestre do ano 2022')\n",
        "elif dias <= trim2Final:\n",
        "  print('Estamos no segundo trimestre do ano 2022')\n",
        "elif dias <= trim3Final:\n",
        "  print('Estamos no terceiro trimestre do ano 2022')\n",
        "else:\n",
        "  print('Não estamos mais em 2022')"
      ],
      "metadata": {
        "colab": {
          "base_uri": "https://localhost:8080/"
        },
        "id": "3lIAqzcytY2C",
        "outputId": "ce642567-28e6-466d-d7b2-ee585136c996"
      },
      "execution_count": 4,
      "outputs": [
        {
          "output_type": "stream",
          "name": "stdout",
          "text": [
            "Digite o núemro de dias: 350\n",
            "Estamos no terceiro trimestre do ano 2022\n"
          ]
        }
      ]
    },
    {
      "cell_type": "markdown",
      "source": [
        "Questão 05\n",
        "\n",
        "Desenvolva um sistema que leia 3 números e diga qual é o maior (se houver empate, exiba os empatados)."
      ],
      "metadata": {
        "id": "fL5slEK8tmg5"
      }
    },
    {
      "cell_type": "code",
      "source": [
        "n1 = float(input('Primeiro Número: '))\n",
        "n2 = float(input('Segundo Número: '))\n",
        "n3 = float(input('Terceiro Número: '))\n",
        "\n",
        "if n1 > n2:\n",
        "  if n1 > n3:\n",
        "    print('O maior número é o Primero: {}'.format(n1))\n",
        "  elif n1 == n3:\n",
        "    print('Os maiores números são o Primeiro e o Terceiro: {}'.format(n1))\n",
        "  else:\n",
        "    print('O maior número é o Terceiro: {}'.format(n3))\n",
        "elif n1 == n2:\n",
        "  if n1 > n3:\n",
        "    print('Os maiores números são o Primeiro e o Segundo: {}'.format(n1))\n",
        "  elif n1 == n3:\n",
        "    print('Todos os números dão iguais: {}'.format(n1))\n",
        "  else:\n",
        "    print('O maior número é o Terceiro: {}'.format(n3))\n",
        "else:\n",
        "  if n2 > n3:\n",
        "    print('O maior número é o Segundo: {}'.format(n2))\n",
        "  elif n2 == n3:\n",
        "    print('Os maiores números são o Segundo e o Terceiro: {}'.format(n2))\n",
        "  else:\n",
        "    print('O maior número é o Terceiro: {}'.format(n3))"
      ],
      "metadata": {
        "colab": {
          "base_uri": "https://localhost:8080/"
        },
        "id": "QTB29K_vtjq6",
        "outputId": "167174db-5e07-4dc7-f6c4-3e8645d0a5b4"
      },
      "execution_count": 6,
      "outputs": [
        {
          "output_type": "stream",
          "name": "stdout",
          "text": [
            "Primeiro Número: 3\n",
            "Segundo Número: 1\n",
            "Terceiro Número: 3\n",
            "Os maiores números são o Primeiro e o Terceiro: 3.0\n"
          ]
        }
      ]
    }
  ]
}